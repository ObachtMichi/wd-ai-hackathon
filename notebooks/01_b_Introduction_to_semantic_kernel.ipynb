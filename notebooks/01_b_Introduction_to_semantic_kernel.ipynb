{
 "cells": [
  {
   "cell_type": "markdown",
   "metadata": {},
   "source": [
    "# Practical Part\n",
    "\n",
    "Implement a small app that uses all concepts introduced in the theory part.\n",
    "\n",
    "Ideas:\n",
    "\n",
    "    - Fusion-Chef: Combines two dishes into something new - also knows the fitting cocktail to everything. Saves delicious sounding recipes in the memory.\n",
    "    - QnA Bot: Searches a prefilled memory for answers to certain questions\n",
    "    - Roleplay Gamemaster: Generates roleplay encounters and keeps track of the party's items & stats\n",
    "    - Shell Meister: Can translate natural language into shell commands and executes them (only recommended when using a devcontainer). Saves the results in memory if the system is still working...."
   ]
  },
  {
   "cell_type": "code",
   "execution_count": 9,
   "metadata": {},
   "outputs": [
    {
     "name": "stdout",
     "output_type": "stream",
     "text": [
      "Das klingt nach einem kulinarischen Erlebnis! Lass uns die Gerichte und Cocktails kombinieren:\n",
      "\n",
      "**Gerichtskombination:** \n",
      "Wir kombinieren die **Spaghetti Carbonara** mit einer **Pizza Margherita**. Diese Kombination vereint die cremige Bolognese der Carbonara mit der frischen Tomatensauce und dem Mozzarella der Pizza. Das ergibt einen herzhaften, italienischen Genuss!\n",
      "\n",
      "**Passender Cocktail:** \n",
      "Zu dieser Kombination empfehlen wir einen **Aperol Spritz**. Dieser erfrischende Cocktail mit seinem leicht bitteren Geschmack und der spritzigen Note passt hervorragend zu den Aromen von Pasta und Pizza und sorgt für einen sommerlichen Touch.\n",
      "\n",
      "Lass es dir schmecken!\n"
     ]
    }
   ],
   "source": [
    "from semantic_kernel import Kernel\n",
    "from semantic_kernel.connectors.ai.open_ai import AzureChatCompletion, AzureTextEmbedding\n",
    "from semantic_kernel.contents import ChatHistory\n",
    "from semantic_kernel.memory.semantic_text_memory import SemanticTextMemory\n",
    "from semantic_kernel.memory.volatile_memory_store import VolatileMemoryStore\n",
    "from semantic_kernel.core_plugins.text_memory_plugin import TextMemoryPlugin\n",
    "\n",
    "kernel = Kernel()\n",
    "\n",
    "service_id = \"chat-gpt\"\n",
    "chat_service = AzureChatCompletion(\n",
    "    service_id=service_id,\n",
    ")\n",
    "\n",
    "embedding_service_id = \"embeddings\"\n",
    "kernel.add_service(AzureTextEmbedding(service_id=embedding_service_id))\n",
    "\n",
    "settings = chat_service.get_prompt_execution_settings_class()\n",
    "settings.temperature = 0.7\n",
    "settings.top_p = 0.8\n",
    "\n",
    "kernel.add_service(chat_service)\n",
    "\n",
    "# string with a mix from two dishes and a cocktail\n",
    "chat_history_1 = \"I had a great time at the restaurant. I ordered the spaghetti carbonara and the tiramisu. The espresso martini was amazing!\"\n",
    "chat_history_2 = \"I ordered pizza and a salad. The margarita was delicious!\"\n",
    "chat_history_3 = \"I ordered pasta and a ice. The Vodka was amazing!\"\n",
    "\n",
    "\n",
    "memory_store = VolatileMemoryStore()\n",
    "memory = SemanticTextMemory(storage=memory_store, embeddings_generator=kernel.get_service(embedding_service_id))\n",
    "kernel.add_plugin(TextMemoryPlugin(memory), \"TextMemoryPlugin\")\n",
    "\n",
    "\n",
    "await memory.save_information(\n",
    "        collection=\"facts\", id=\"fact1\", text=str(chat_history_1), description=\"First chat history\"\n",
    "    )\n",
    "\n",
    "\n",
    "system_message = \"\"\"\n",
    "Du bist ein Chatbot, der zwei Gerichte zusammenfügst und einen passenden Cocktail auswählst. \n",
    "\"\"\"\n",
    "\n",
    "chat_function = kernel.add_function(\n",
    "    prompt=system_message + chat_history_1 + chat_history_2 + chat_history_3,\n",
    "    function_name=\"chat\",\n",
    "    plugin_name=\"chat\",\n",
    "    settings=settings\n",
    ")\n",
    "\n",
    "\n",
    "response = await kernel.invoke(chat_function,user_input=input)\n",
    "print(response)\n",
    "\n",
    "\n"
   ]
  }
 ],
 "metadata": {
  "kernelspec": {
   "display_name": ".venv",
   "language": "python",
   "name": "python3"
  },
  "language_info": {
   "codemirror_mode": {
    "name": "ipython",
    "version": 3
   },
   "file_extension": ".py",
   "mimetype": "text/x-python",
   "name": "python",
   "nbconvert_exporter": "python",
   "pygments_lexer": "ipython3",
   "version": "3.12.7"
  }
 },
 "nbformat": 4,
 "nbformat_minor": 2
}
